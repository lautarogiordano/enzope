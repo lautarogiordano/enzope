{
 "cells": [
  {
   "cell_type": "code",
   "execution_count": 25,
   "metadata": {},
   "outputs": [],
   "source": [
    "import smtplib\n",
    "from email.mime.text import MIMEText\n",
    "from email.mime.multipart import MIMEMultipart\n",
    "\n",
    "def send_email(receiver_email=\"giordanolautaro@gmail.com\", subject=[], body=\"mail de prueba\"):\n",
    "    sender_email = \"postmaster@sandbox33c3dc6fe96f4a2aa18406438fe43eb5.mailgun.org\"\n",
    "    receiver_email = receiver_email\n",
    "    smtp_server = \"smtp.mailgun.com\"\n",
    "    smtp_port = 465  # Use 587 if you are using STARTTLS\n",
    "\n",
    "    password = \"1d3731dfcf1646cf01e24914cf3e3873-4b670513-005e5abe\"\n",
    "    message = MIMEMultipart()\n",
    "    message[\"From\"] = sender_email\n",
    "    message[\"To\"] = receiver_email\n",
    "    message[\"Subject\"] = subject\n",
    "\n",
    "    body = body\n",
    "    message.attach(MIMEText(body, \"plain\"))\n",
    "\n",
    "    server = smtplib.SMTP_SSL(smtp_server, smtp_port)\n",
    "    server.login(sender_email, password)\n",
    "\n",
    "    server.sendmail(sender_email, receiver_email, message.as_string())\n",
    "    server.quit()"
   ]
  },
  {
   "cell_type": "code",
   "execution_count": 26,
   "metadata": {},
   "outputs": [],
   "source": [
    "send_email(subject=\"Pruebita\", body=\"Hola, este es un mail de prueba gatoo\")"
   ]
  }
 ],
 "metadata": {
  "kernelspec": {
   "display_name": "abm",
   "language": "python",
   "name": "python3"
  },
  "language_info": {
   "codemirror_mode": {
    "name": "ipython",
    "version": 3
   },
   "file_extension": ".py",
   "mimetype": "text/x-python",
   "name": "python",
   "nbconvert_exporter": "python",
   "pygments_lexer": "ipython3",
   "version": "3.11.5"
  }
 },
 "nbformat": 4,
 "nbformat_minor": 2
}
