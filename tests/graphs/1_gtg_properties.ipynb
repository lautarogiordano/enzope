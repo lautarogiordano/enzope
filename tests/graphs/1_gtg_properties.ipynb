{
 "cells": [
  {
   "cell_type": "code",
   "execution_count": 26,
   "metadata": {},
   "outputs": [],
   "source": [
    "import enzope as ezp\n",
    "import enzope.graphs as gc\n",
    "import numpy as np\n",
    "import networkx as nx\n",
    "from matplotlib import pyplot as plt"
   ]
  },
  {
   "cell_type": "code",
   "execution_count": 27,
   "metadata": {},
   "outputs": [
    {
     "name": "stdout",
     "output_type": "stream",
     "text": [
      "Name: enzope\n",
      "Version: 0.0.10\n",
      "Summary: Agent based modelling in complex networks\n",
      "Home-page: https://github.com/lautarogiordano/enzope\n",
      "Author: Lautaro Giordano\n",
      "Author-email: giordanolautaro@gmail.com\n",
      "License: \n",
      "Location: /home/lautaro/Workspace/ib/code/codedoc/enzope\n",
      "Requires: networkx, numba, numpy\n",
      "Required-by: \n"
     ]
    }
   ],
   "source": [
    "!pip show enzope"
   ]
  },
  {
   "cell_type": "code",
   "execution_count": 33,
   "metadata": {},
   "outputs": [
    {
     "ename": "AttributeError",
     "evalue": "module 'enzope.graphs' has no attribute 'custom_gtg'",
     "output_type": "error",
     "traceback": [
      "\u001b[0;31m---------------------------------------------------------------------------\u001b[0m",
      "\u001b[0;31mAttributeError\u001b[0m                            Traceback (most recent call last)",
      "Cell \u001b[0;32mIn[33], line 1\u001b[0m\n\u001b[0;32m----> 1\u001b[0m ezp\u001b[39m.\u001b[39;49mgraphs\u001b[39m.\u001b[39;49mcustom_gtg\u001b[39m.\u001b[39mGTG()\n",
      "\u001b[0;31mAttributeError\u001b[0m: module 'enzope.graphs' has no attribute 'custom_gtg'"
     ]
    }
   ],
   "source": [
    "ezp.graphs"
   ]
  }
 ],
 "metadata": {
  "kernelspec": {
   "display_name": "abm",
   "language": "python",
   "name": "python3"
  },
  "language_info": {
   "codemirror_mode": {
    "name": "ipython",
    "version": 3
   },
   "file_extension": ".py",
   "mimetype": "text/x-python",
   "name": "python",
   "nbconvert_exporter": "python",
   "pygments_lexer": "ipython3",
   "version": "3.11.3"
  },
  "orig_nbformat": 4
 },
 "nbformat": 4,
 "nbformat_minor": 2
}
