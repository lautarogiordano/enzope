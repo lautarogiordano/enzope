{
 "cells": [
  {
   "cell_type": "markdown",
   "metadata": {},
   "source": [
    "### Poster:\n",
    "\n",
    "#### Introduccion\n",
    "- Motivación de estudiar sistemas econofísicos embebidos en redes\n",
    "- Cómo modelar la incidencia de la distribución espacial? Mediante redes geográficas\n",
    "#### Redes de umbral geográfico \n",
    "- Definición, tipos de red\n",
    "- Figura redes para distinto umbral\n",
    "#### GTGs y datos FAO\n",
    "- Figura red de soja y red fiteada\n",
    "- Histogramas de Grado, Clustering y Asortatividad (definirla)\n",
    "#### Resultados: modelo de Y-S\n",
    "- Modelo de YS\n",
    "- Figura gini final (comparando otras redes)"
   ]
  }
 ],
 "metadata": {
  "language_info": {
   "name": "python"
  }
 },
 "nbformat": 4,
 "nbformat_minor": 2
}
