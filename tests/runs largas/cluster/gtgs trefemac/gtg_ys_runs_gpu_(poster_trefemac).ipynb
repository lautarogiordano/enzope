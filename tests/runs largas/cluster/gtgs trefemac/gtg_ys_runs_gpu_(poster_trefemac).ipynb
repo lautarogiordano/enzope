{
  "nbformat": 4,
  "nbformat_minor": 0,
  "metadata": {
    "colab": {
      "provenance": [],
      "gpuType": "T4"
    },
    "kernelspec": {
      "name": "python3",
      "display_name": "Python 3"
    },
    "language_info": {
      "name": "python"
    },
    "accelerator": "GPU"
  },
  "cells": [
    {
      "cell_type": "code",
      "source": [
        "!pip install enzope --upgrade"
      ],
      "metadata": {
        "colab": {
          "base_uri": "https://localhost:8080/"
        },
        "id": "jFR3lRi87PRg",
        "outputId": "65d4f49b-d55f-4cbc-aa8c-16445be9925b"
      },
      "execution_count": null,
      "outputs": [
        {
          "output_type": "stream",
          "name": "stdout",
          "text": [
            "Collecting enzope\n",
            "  Downloading enzope-0.0.20-py3-none-any.whl (16 kB)\n",
            "Requirement already satisfied: numpy>=1.24 in /usr/local/lib/python3.10/dist-packages (from enzope) (1.25.2)\n",
            "Requirement already satisfied: numba>=0.0.57 in /usr/local/lib/python3.10/dist-packages (from enzope) (0.58.1)\n",
            "Requirement already satisfied: networkx>=3.0 in /usr/local/lib/python3.10/dist-packages (from enzope) (3.3)\n",
            "Requirement already satisfied: llvmlite<0.42,>=0.41.0dev0 in /usr/local/lib/python3.10/dist-packages (from numba>=0.0.57->enzope) (0.41.1)\n",
            "Installing collected packages: enzope\n",
            "Successfully installed enzope-0.0.20\n"
          ]
        }
      ]
    },
    {
      "cell_type": "code",
      "source": [
        "import numpy as np\n",
        "from matplotlib import pyplot as plt\n",
        "import os\n",
        "import enzope\n",
        "import networkx as nx\n",
        "from tqdm import tqdm"
      ],
      "metadata": {
        "id": "hpTWFyO-7Nix"
      },
      "execution_count": null,
      "outputs": []
    },
    {
      "cell_type": "code",
      "source": [
        "def r1(x):\n",
        "    return x**(-1)\n",
        "\n",
        "def print_info(gtgs):\n",
        "    cons = [gtgs[i].get_mean_degree()[0] for i in range(len(gtgs))]\n",
        "    clust = [[nx.average_clustering(gtgs[i].G) for i in range(len(gtgs))]]\n",
        "    assort = [nx.degree_assortativity_coefficient(gtgs[i].G) for i in range(len(gtgs))]\n",
        "    print(f\"Mean k: {np.mean(cons):.2f} +- {np.std(cons):.2f}\")\n",
        "    print(f\"Mean clustering: {np.mean(clust):.2f} +- {np.std(clust):.2f}\")\n",
        "    print(f\"Mean assortativity: {np.mean(assort):.2f} +- {np.std(assort):.2f}\")"
      ],
      "metadata": {
        "id": "G1ugcg228UwB"
      },
      "execution_count": null,
      "outputs": []
    },
    {
      "cell_type": "code",
      "source": [
        "# Params\n",
        "reps = 100\n",
        "n_nodes = 1000\n",
        "theta = 65\n",
        "mcs = 200000"
      ],
      "metadata": {
        "id": "J5TvIMNnra6K"
      },
      "execution_count": null,
      "outputs": []
    },
    {
      "cell_type": "code",
      "source": [
        "def graph_ensemble():\n",
        "    gtgs = [enzope.graphs.graph_class.GTG(n_nodes=n_nodes, theta=theta, join='add', p_dist=r1) for i in range(reps)]\n",
        "    print(f'theta={theta}')\n",
        "    print_info(gtgs)\n",
        "    return gtgs"
      ],
      "metadata": {
        "colab": {
          "base_uri": "https://localhost:8080/"
        },
        "id": "oFRtHepP7hJi",
        "outputId": "771f33c8-6c3d-4f22-a7a9-b412a771be8d"
      },
      "execution_count": null,
      "outputs": [
        {
          "output_type": "stream",
          "name": "stdout",
          "text": [
            "theta=65\n",
            "Mean k: 4.27 +- 0.33\n",
            "Mean clustering: 0.54 +- 0.03\n",
            "Mean assortativity: -0.13 +- 0.03\n"
          ]
        }
      ]
    },
    {
      "cell_type": "code",
      "source": [
        "for f in [0, .1]:\n",
        "    graphs = graph_ensemble()\n",
        "    ensemble = enzope.GPUEnsemble(n_models=reps, n_agents=n_nodes, graphs=gtgs, f=0)\n",
        "\n",
        "    for model, rng_state in tqdm(zip(ensemble.models, ensemble.rng_states)):\n",
        "        model.MCS(mcs, ensemble.tpb, ensemble.bpg, rng_state)\n",
        "\n",
        "\n",
        "    ginis = [enzope.measures.gini(model.w) for model in ensemble.models]\n",
        "    print(f\"{f}, {np.mean(ginis)}, {np.std(ginis)},\")\n"
      ],
      "metadata": {
        "colab": {
          "base_uri": "https://localhost:8080/"
        },
        "id": "uXcMMO4k_SXb",
        "outputId": "881b18fe-39f3-4f03-c5cc-f055553e5508"
      },
      "execution_count": null,
      "outputs": [
        {
          "output_type": "stream",
          "name": "stderr",
          "text": [
            "100it [01:46,  1.07s/it]\n"
          ]
        }
      ]
    },
    {
      "cell_type": "code",
      "source": [
        "ensemble.models[0]\n",
        "ginis = [enzope.measures.gini(model.w) for model in ensemble.models]"
      ],
      "metadata": {
        "id": "xyUBMai__rzZ"
      },
      "execution_count": null,
      "outputs": []
    },
    {
      "cell_type": "markdown",
      "source": [
        "### Corro los otros grafos"
      ],
      "metadata": {
        "id": "rTTvLvIkYG5P"
      }
    },
    {
      "cell_type": "code",
      "source": [
        "!pip install enzope --upgrade"
      ],
      "metadata": {
        "colab": {
          "base_uri": "https://localhost:8080/"
        },
        "id": "BUc0eR2iYGqz",
        "outputId": "95b61f55-0c24-43d0-8302-f2620bbed2cb"
      },
      "execution_count": null,
      "outputs": [
        {
          "output_type": "stream",
          "name": "stdout",
          "text": [
            "Collecting enzope\n",
            "  Downloading enzope-0.0.20-py3-none-any.whl (16 kB)\n",
            "Requirement already satisfied: numpy>=1.24 in /usr/local/lib/python3.10/dist-packages (from enzope) (1.25.2)\n",
            "Requirement already satisfied: numba>=0.0.57 in /usr/local/lib/python3.10/dist-packages (from enzope) (0.58.1)\n",
            "Requirement already satisfied: networkx>=3.0 in /usr/local/lib/python3.10/dist-packages (from enzope) (3.3)\n",
            "Requirement already satisfied: llvmlite<0.42,>=0.41.0dev0 in /usr/local/lib/python3.10/dist-packages (from numba>=0.0.57->enzope) (0.41.1)\n",
            "Installing collected packages: enzope\n",
            "Successfully installed enzope-0.0.20\n"
          ]
        }
      ]
    },
    {
      "cell_type": "code",
      "source": [
        "import numpy as np\n",
        "from matplotlib import pyplot as plt\n",
        "import os\n",
        "import enzope\n",
        "import networkx as nx\n",
        "from tqdm import tqdm\n",
        "from numba import cuda\n",
        "import time\n",
        "\n",
        "def r1(x):\n",
        "    return x**(-1)\n",
        "\n",
        "def print_info(gtgs):\n",
        "    cons = [gtgs[i].get_mean_degree()[0] for i in range(len(gtgs))]\n",
        "    clust = [[nx.average_clustering(gtgs[i].G) for i in range(len(gtgs))]]\n",
        "    assort = [nx.degree_assortativity_coefficient(gtgs[i].G) for i in range(len(gtgs))]\n",
        "    print(f\"Mean k: {np.mean(cons):.2f} +- {np.std(cons):.2f}\")\n",
        "    print(f\"Mean clustering: {np.mean(clust):.2f} +- {np.std(clust):.2f}\")\n",
        "    print(f\"Mean assortativity: {np.mean(assort):.2f} +- {np.std(assort):.2f}\")\n",
        "\n",
        "# Params\n",
        "reps = 10\n",
        "n_nodes = 1000\n",
        "theta = 65\n",
        "mcs = 200000\n",
        "\n",
        "def ba_ensemble():\n",
        "    # BA graphs\n",
        "    # <k>: 3.992 +- 0.0000000000\n",
        "    # C: 0.026 +- 0.005\n",
        "    # r: -0.092 +- 0.011\n",
        "    return [nx.barabasi_albert_graph(n_nodes, 2) for _ in range(reps)]\n",
        "\n",
        "def er_ensemble():\n",
        "    # ER graphs\n",
        "    # <k>: 3.992 +- 0.0000000000\n",
        "    # C: 0.003 +- 0.000\n",
        "    # r: -0.001 +- 0.000\n",
        "    return [nx.erdos_renyi_graph(n_nodes, 0.00405) for _ in range(reps)]\n",
        "\n",
        "def graph_ensemble():\n",
        "    gtgs = [enzope.graphs.graph_class.GTG(n_nodes=n_nodes, theta=theta, join='add', p_dist=r1) for i in range(reps)]\n",
        "    return gtgs\n",
        "\n",
        "\n",
        "# Esto esta copiado con distintos f_set porque el cluster me reta que uso muchos recursos\n",
        "f_set = np.arange(0.26, .501, 0.02)\n",
        "ensemble = [None for _ in range(len(f_set))]\n",
        "\n",
        "vals = {'f':[], 'gini':[], 'std':[]}\n",
        "\n",
        "for j, f in enumerate(f_set):\n",
        "    # graphs = er_ensemble()\n",
        "\n",
        "    # Esto es un fix para que corra el programa, ya que la funcion get_neighbours_gpu solo esta en la clase GTG\n",
        "    gtgs = [enzope.graphs.graph_class.GTG(n_nodes, theta=10000) for _ in range(reps)]\n",
        "    # for i in range(reps):\n",
        "        # gtgs[i].G = graphs[i]\n",
        "\n",
        "    ensemble[j] = enzope.GPUEnsemble(n_models=reps, n_agents=n_nodes, graphs=None, f=f)\n",
        "\n",
        "    for model, rng_state in tqdm(zip(ensemble[j].models, ensemble[j].rng_states)):\n",
        "        model.MCS(mcs, ensemble[j].tpb, ensemble[j].bpg, rng_state)\n",
        "\n",
        "    ginis = [enzope.measures.gini(model.w) for model in ensemble[j].models]\n",
        "\n",
        "    print(f\"{f}, {np.mean(ginis)}, {np.std(ginis)},\")\n",
        "    vals['f'].append(f)\n",
        "    vals['gini'].append(np.mean(ginis).copy())\n",
        "    vals['std'].append(np.std(ginis).copy())\n",
        "\n",
        "\n",
        "    # cuda.current_context().memory_manager.deallocations.clear()\n",
        "\n"
      ],
      "metadata": {
        "colab": {
          "base_uri": "https://localhost:8080/"
        },
        "id": "5jxaL6VDArY8",
        "outputId": "11d5a0a7-111c-46f8-c218-1814fdad3579"
      },
      "execution_count": null,
      "outputs": [
        {
          "output_type": "stream",
          "name": "stderr",
          "text": [
            "10it [00:27,  2.72s/it]\n"
          ]
        },
        {
          "output_type": "stream",
          "name": "stdout",
          "text": [
            "0.26, 0.7116012512207031, 0.01360986593125381,\n"
          ]
        },
        {
          "output_type": "stream",
          "name": "stderr",
          "text": [
            "10it [00:27,  2.75s/it]\n"
          ]
        },
        {
          "output_type": "stream",
          "name": "stdout",
          "text": [
            "0.28, 0.6862101593017577, 0.014042720253369596,\n"
          ]
        },
        {
          "output_type": "stream",
          "name": "stderr",
          "text": [
            "10it [00:29,  2.91s/it]\n"
          ]
        },
        {
          "output_type": "stream",
          "name": "stdout",
          "text": [
            "0.30000000000000004, 0.6662096923828124, 0.018067881033706264,\n"
          ]
        },
        {
          "output_type": "stream",
          "name": "stderr",
          "text": [
            "10it [00:30,  3.02s/it]\n"
          ]
        },
        {
          "output_type": "stream",
          "name": "stdout",
          "text": [
            "0.32000000000000006, 0.6315617797851562, 0.01720388975753711,\n"
          ]
        },
        {
          "output_type": "stream",
          "name": "stderr",
          "text": [
            "10it [00:30,  3.09s/it]\n"
          ]
        },
        {
          "output_type": "stream",
          "name": "stdout",
          "text": [
            "0.3400000000000001, 0.6175571533203124, 0.017617524158073467,\n"
          ]
        },
        {
          "output_type": "stream",
          "name": "stderr",
          "text": [
            "10it [00:31,  3.18s/it]\n"
          ]
        },
        {
          "output_type": "stream",
          "name": "stdout",
          "text": [
            "0.3600000000000001, 0.600975259399414, 0.020840615939641788,\n"
          ]
        },
        {
          "output_type": "stream",
          "name": "stderr",
          "text": [
            "10it [00:32,  3.26s/it]\n"
          ]
        },
        {
          "output_type": "stream",
          "name": "stdout",
          "text": [
            "0.3800000000000001, 0.5765378448486327, 0.017001312338392572,\n"
          ]
        },
        {
          "output_type": "stream",
          "name": "stderr",
          "text": [
            "10it [00:32,  3.30s/it]\n"
          ]
        },
        {
          "output_type": "stream",
          "name": "stdout",
          "text": [
            "0.40000000000000013, 0.5667791564941406, 0.015687222659820897,\n"
          ]
        },
        {
          "output_type": "stream",
          "name": "stderr",
          "text": [
            "10it [00:33,  3.34s/it]\n"
          ]
        },
        {
          "output_type": "stream",
          "name": "stdout",
          "text": [
            "0.42000000000000015, 0.5375900726318358, 0.0123554906983234,\n"
          ]
        },
        {
          "output_type": "stream",
          "name": "stderr",
          "text": [
            "10it [00:33,  3.36s/it]\n"
          ]
        },
        {
          "output_type": "stream",
          "name": "stdout",
          "text": [
            "0.44000000000000017, 0.5169758148193357, 0.012152906401497205,\n"
          ]
        },
        {
          "output_type": "stream",
          "name": "stderr",
          "text": [
            "10it [00:33,  3.36s/it]\n"
          ]
        },
        {
          "output_type": "stream",
          "name": "stdout",
          "text": [
            "0.4600000000000002, 0.5069606475830077, 0.014348736693578319,\n"
          ]
        },
        {
          "output_type": "stream",
          "name": "stderr",
          "text": [
            "10it [00:33,  3.36s/it]\n"
          ]
        },
        {
          "output_type": "stream",
          "name": "stdout",
          "text": [
            "0.4800000000000002, 0.4803326934814452, 0.014448819079831424,\n"
          ]
        },
        {
          "output_type": "stream",
          "name": "stderr",
          "text": [
            "10it [00:33,  3.36s/it]"
          ]
        },
        {
          "output_type": "stream",
          "name": "stdout",
          "text": [
            "0.5000000000000002, 0.4707265380859374, 0.014241306020250167,\n"
          ]
        },
        {
          "output_type": "stream",
          "name": "stderr",
          "text": [
            "\n"
          ]
        }
      ]
    },
    {
      "cell_type": "markdown",
      "source": [
        "BA:\n",
        "f,gini,std_gini\n",
        "0.0, 0.7816632705688475, 0.01777065905305278\n",
        "0.02, 0.815324296569824, 0.017095978898143332\n",
        "0.04, 0.8106165710449218, 0.0158738874179976\n",
        "0.06, 0.8165143249511717, 0.015090044139978609\n",
        "0.08, 0.814198387145996, 0.013421036305127908\n",
        "0.1, 0.8068092132568359, 0.011088948830621902\n",
        "0.12, 0.7831787948608397, 0.01833854286890259\n",
        "0.14, 0.7698057144165038, 0.010803953053703191\n",
        "0.16, 0.7587137634277343, 0.010332630019980086\n",
        "0.18, 0.7379317138671875, 0.019990296680831125\n",
        "0.19999999999999998, 0.7090724227905272, 0.02544552862919703\n",
        "0.21999999999999997, 0.6980368194580077, 0.014679612113204643\n",
        "0.23999999999999996, 0.6763318939208982, 0.02596522613172248\n",
        "0.25999999999999995, 0.6553551055908201, 0.01783156614875531\n",
        "0.2799999999999999, 0.6301252929687499, 0.015359553291672375\n",
        "0.29999999999999993, 0.6052985443115234, 0.026795911711782094\n",
        "0.31999999999999995, 0.5745525115966796, 0.029189065294532267\n",
        "0.3399999999999999, 0.5492464477539061, 0.030741271594571885\n",
        "0.36, 0.5392178344726561, 0.019606390954000377\n",
        "0.38, 0.5137534576416015, 0.01797667451362144\n",
        "0.4, 0.5131772064208983, 0.016126501605276136\n",
        "0.42000000000000004, 0.4806566650390624, 0.024499123459637395\n",
        "0.44000000000000006, 0.47044121093749985, 0.02289733012798621\n",
        "0.4600000000000001, 0.4560621337890624, 0.022172119474659337\n",
        "0.4800000000000001, 0.45055175781249995, 0.02297353797211971\n",
        "0.5, 0.43242620239257806, 0.021976786200419405\n",
        "\n"
      ],
      "metadata": {
        "id": "66on0AkZlamz"
      }
    },
    {
      "cell_type": "markdown",
      "source": [
        "er:\n",
        "f,gini,std_gini\n",
        "0.0, 0.8140626327514647, 0.007414035005004858\n",
        "0.02, 0.8408949478149413, 0.011050080159947216\n",
        "0.04, 0.8440369674682616, 0.011208377245711517\n",
        "0.06, 0.8357656051635741, 0.010804063742539982\n",
        "0.08, 0.8283870803833006, 0.0052585769209538315\n",
        "0.1, 0.8159758331298826, 0.008280989383099796\n",
        "0.12, 0.7936572479248045, 0.011569159579138745\n",
        "0.14, 0.7737708007812498, 0.014593105174054748\n",
        "0.16, 0.7523505355834962, 0.01379967094501448\n",
        "0.18, 0.7308268249511718, 0.013838598158584021\n",
        "0.2, 0.7136759307861327, 0.011202995012426113\n",
        "0.22, 0.6687569885253906, 0.013693710074900837\n",
        "0.24, 0.6555496215820311, 0.014575238479818703\n",
        "0.26, 0.6295745727539062, 0.0104214054357027\n",
        "0.28, 0.6211477325439452, 0.012973680799841675\n",
        "0.3, 0.591706787109375, 0.013232386568451682\n",
        "0.32, 0.5668656677246092, 0.012365797931338879\n",
        "0.34, 0.5432980224609374, 0.014782429352818587\n",
        "0.36, 0.5227355010986326, 0.007270983542735113\n",
        "0.38, 0.5083753875732421, 0.011693260382478489\n",
        "0.4, 0.48780166320800766, 0.01905045205294629\n",
        "0.42, 0.4707222351074217, 0.01831407714951808\n",
        "0.44, 0.4507370788574218, 0.012394115014637254\n",
        "0.46, 0.4316322021484374, 0.014561140059803869\n",
        "0.48, 0.43316202392578107, 0.009554177635543986\n",
        "0.5, 0.4153266052246093, 0.009947173312734621\n"
      ],
      "metadata": {
        "id": "2xaFfK4l0C4y"
      }
    },
    {
      "cell_type": "markdown",
      "source": [
        "mean field\n",
        "f,gini,std_gini\n",
        "0.0, 0.9982395011663435, 0.0002253046223778311\n",
        "0.02, 0.993593957042694, 0.001677276973070657\n",
        "0.04, 0.9552934917449951, 0.004295185623977493\n",
        "0.06, 0.9320977569580077, 0.005785567210336383\n",
        "0.08, 0.9163870399475096, 0.00399242001934394\n",
        "0.1, 0.8897505714416504, 0.008921050739202144\n",
        "0.12, 0.8663528488159178, 0.006043790147281094\n",
        "0.14, 0.8399558898925781, 0.00888649786555123\n",
        "0.16, 0.8262649551391601, 0.009301595102485186\n",
        "0.18, 0.7997268630981444, 0.01226256488493322\n",
        "0.2, 0.7810273834228514, 0.014504397531882469\n",
        "0.22, 0.7441808319091796, 0.011875547358538973\n",
        "0.24, 0.7280651626586913, 0.014829663815962218\n",
        "0.26, 0.7116012512207031, 0.01360986593125381\n",
        "0.28, 0.6862101593017577, 0.014042720253369596\n",
        "0.30000000000000004, 0.6662096923828124, 0.018067881033706264\n",
        "0.32000000000000006, 0.6315617797851562, 0.01720388975753711\n",
        "0.3400000000000001, 0.6175571533203124, 0.017617524158073467\n",
        "0.3600000000000001, 0.600975259399414, 0.020840615939641788\n",
        "0.3800000000000001, 0.5765378448486327, 0.017001312338392572\n",
        "0.40000000000000013, 0.5667791564941406, 0.015687222659820897\n",
        "0.42000000000000015, 0.5375900726318358, 0.0123554906983234\n",
        "0.44000000000000017, 0.5169758148193357, 0.012152906401497205\n",
        "0.4600000000000002, 0.5069606475830077, 0.014348736693578319\n",
        "0.4800000000000002, 0.4803326934814452, 0.014448819079831424\n",
        "0.5000000000000002, 0.4707265380859374, 0.014241306020250167\n"
      ],
      "metadata": {
        "id": "LNNLD76b2GAX"
      }
    }
  ]
}