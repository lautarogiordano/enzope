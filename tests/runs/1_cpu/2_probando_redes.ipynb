{
 "cells": [
  {
   "cell_type": "code",
   "execution_count": 22,
   "metadata": {},
   "outputs": [],
   "source": [
    "import numpy as np\n",
    "from matplotlib import pyplot as plt\n",
    "import networkx as nx\n",
    "import os\n",
    "from tqdm import tqdm\n",
    "import enzope\n",
    "from enzope.graphs.graph_class import GTG\n",
    "\n",
    "def r1(x):\n",
    "    return x**(-1)\n",
    "\n",
    "# f(w) = (a/m) * (w/m)^-(a+1)\n",
    "def print_info(gtgs, more=False):\n",
    "    # degrees = [d for n, d in self.G.degree()]\n",
    "    # np.mean(degrees), np.std(degrees)\n",
    "    cons = [gtgs[i].get_mean_connectivity() for i in range(len(gtgs))] \n",
    "    print(f\"Len:{len(gtgs)}, Mean k: {np.mean(cons):.2f} +- {np.std(cons):.2f}\")\n",
    "    if more:\n",
    "        clust = [[nx.average_clustering(gtgs[i].G) for i in range(len(gtgs))]]\n",
    "        assort = [nx.degree_assortativity_coefficient(gtgs[i].G) for i in range(len(gtgs))]\n",
    "        print(f\"Mean clustering: {np.mean(clust):.2f} +- {np.std(clust):.2f}\")\n",
    "        print(f\"Mean assortativity: {np.mean(assort):.2f} +- {np.std(assort):.2f}\")"
   ]
  },
  {
   "cell_type": "code",
   "execution_count": 53,
   "metadata": {},
   "outputs": [
    {
     "name": "stdout",
     "output_type": "stream",
     "text": [
      "Len:20, Mean k: 6.31 +- 1.52\n",
      "Mean clustering: 0.59 +- 0.09\n",
      "Mean assortativity: -0.21 +- 0.07\n"
     ]
    }
   ],
   "source": [
    "a, m = 2.1, 1  # shape and mode\n",
    "n_nodes = 1000\n",
    "theta = 120\n",
    "\n",
    "# for reps in [5, 10, 20, 50]:\n",
    "for reps in [20]:\n",
    "    weights = [dict(enumerate((np.random.default_rng().pareto(a, n_nodes) + 1) * m)) for _ in range(reps)]\n",
    "    gtgs = [enzope.graphs.graph_class.GTG(n_nodes=n_nodes, theta=theta, w0=weights[i], join='mul', p_dist=r1) for i in range(reps)]\n",
    "    print_info(gtgs, more=True)"
   ]
  }
 ],
 "metadata": {
  "kernelspec": {
   "display_name": "abm",
   "language": "python",
   "name": "python3"
  },
  "language_info": {
   "codemirror_mode": {
    "name": "ipython",
    "version": 3
   },
   "file_extension": ".py",
   "mimetype": "text/x-python",
   "name": "python",
   "nbconvert_exporter": "python",
   "pygments_lexer": "ipython3",
   "version": "3.11.3"
  }
 },
 "nbformat": 4,
 "nbformat_minor": 2
}
