{
 "cells": [
  {
   "cell_type": "code",
   "execution_count": 3,
   "metadata": {},
   "outputs": [],
   "source": [
    "import enzope.graphs as gc\n",
    "from enzope.models import model\n",
    "import numpy as np"
   ]
  },
  {
   "cell_type": "code",
   "execution_count": 4,
   "metadata": {},
   "outputs": [
    {
     "ename": "AttributeError",
     "evalue": "module 'enzope.graphs' has no attribute 'GTG'",
     "output_type": "error",
     "traceback": [
      "\u001b[0;31m---------------------------------------------------------------------------\u001b[0m",
      "\u001b[0;31mAttributeError\u001b[0m                            Traceback (most recent call last)",
      "Cell \u001b[0;32mIn[4], line 1\u001b[0m\n\u001b[0;32m----> 1\u001b[0m gtg \u001b[39m=\u001b[39m gc\u001b[39m.\u001b[39;49mGTG(n_nodes\u001b[39m=\u001b[39m\u001b[39m100\u001b[39m, theta\u001b[39m=\u001b[39m\u001b[39m100\u001b[39m, plotable\u001b[39m=\u001b[39m\u001b[39mTrue\u001b[39;00m)\n\u001b[1;32m      2\u001b[0m gtg\u001b[39m.\u001b[39mplot_snapshot(w_min \u001b[39m=\u001b[39m \u001b[39m1e-17\u001b[39m)\n",
      "\u001b[0;31mAttributeError\u001b[0m: module 'enzope.graphs' has no attribute 'GTG'"
     ]
    }
   ],
   "source": [
    "gtg = gc.GTG(n_nodes=100, theta=100, plotable=True)\n",
    "gtg.plot_snapshot(w_min = 1e-17)"
   ]
  },
  {
   "cell_type": "code",
   "execution_count": 6,
   "metadata": {},
   "outputs": [
    {
     "ename": "CudaSupportError",
     "evalue": "<CUDA device 0 'b'NVIDIA GeForce GTX 760''> has compute capability < (3, 5)",
     "output_type": "error",
     "traceback": [
      "\u001b[0;31m---------------------------------------------------------------------------\u001b[0m",
      "\u001b[0;31mCudaSupportError\u001b[0m                          Traceback (most recent call last)",
      "Cell \u001b[0;32mIn[6], line 1\u001b[0m\n\u001b[0;32m----> 1\u001b[0m ensemble \u001b[39m=\u001b[39m model\u001b[39m.\u001b[39;49mGPUEnsemble(n_models\u001b[39m=\u001b[39;49m\u001b[39m100\u001b[39;49m, n_agents\u001b[39m=\u001b[39;49m\u001b[39m100\u001b[39;49m, f\u001b[39m=\u001b[39;49m\u001b[39m0\u001b[39;49m)\n\u001b[1;32m      2\u001b[0m np\u001b[39m.\u001b[39msum(ensemble\u001b[39m.\u001b[39mmodels[\u001b[39m0\u001b[39m]\u001b[39m.\u001b[39mw)\n",
      "File \u001b[0;32m~/Workspace/ib/code/codedoc/enzope/enzope/models/model.py:117\u001b[0m, in \u001b[0;36mGPUEnsemble.__init__\u001b[0;34m(self, n_models, n_agents, tpb, bpg, graphs, **kwargs)\u001b[0m\n\u001b[1;32m    115\u001b[0m     \u001b[39mself\u001b[39m\u001b[39m.\u001b[39mstreams \u001b[39m=\u001b[39m [cuda\u001b[39m.\u001b[39mdefault_stream()]\n\u001b[1;32m    116\u001b[0m \u001b[39melse\u001b[39;00m:\n\u001b[0;32m--> 117\u001b[0m     \u001b[39mself\u001b[39m\u001b[39m.\u001b[39mstreams \u001b[39m=\u001b[39m [cuda\u001b[39m.\u001b[39;49mstream() \u001b[39mfor\u001b[39;49;00m _ \u001b[39min\u001b[39;49;00m \u001b[39mrange\u001b[39;49m(\u001b[39mself\u001b[39;49m\u001b[39m.\u001b[39;49mn_streams)]\n\u001b[1;32m    119\u001b[0m \u001b[39mif\u001b[39;00m \u001b[39mself\u001b[39m\u001b[39m.\u001b[39mgraphs \u001b[39mis\u001b[39;00m \u001b[39mNone\u001b[39;00m:\n\u001b[1;32m    120\u001b[0m     \u001b[39mself\u001b[39m\u001b[39m.\u001b[39mmodels \u001b[39m=\u001b[39m [\n\u001b[1;32m    121\u001b[0m         GPUModel(n_agents\u001b[39m=\u001b[39mn_agents, stream\u001b[39m=\u001b[39mstream, \u001b[39m*\u001b[39m\u001b[39m*\u001b[39mkwargs)\n\u001b[1;32m    122\u001b[0m         \u001b[39mfor\u001b[39;00m stream \u001b[39min\u001b[39;00m \u001b[39mself\u001b[39m\u001b[39m.\u001b[39mstreams\n\u001b[1;32m    123\u001b[0m     ]\n",
      "File \u001b[0;32m~/Workspace/ib/code/codedoc/enzope/enzope/models/model.py:117\u001b[0m, in \u001b[0;36m<listcomp>\u001b[0;34m(.0)\u001b[0m\n\u001b[1;32m    115\u001b[0m     \u001b[39mself\u001b[39m\u001b[39m.\u001b[39mstreams \u001b[39m=\u001b[39m [cuda\u001b[39m.\u001b[39mdefault_stream()]\n\u001b[1;32m    116\u001b[0m \u001b[39melse\u001b[39;00m:\n\u001b[0;32m--> 117\u001b[0m     \u001b[39mself\u001b[39m\u001b[39m.\u001b[39mstreams \u001b[39m=\u001b[39m [cuda\u001b[39m.\u001b[39;49mstream() \u001b[39mfor\u001b[39;00m _ \u001b[39min\u001b[39;00m \u001b[39mrange\u001b[39m(\u001b[39mself\u001b[39m\u001b[39m.\u001b[39mn_streams)]\n\u001b[1;32m    119\u001b[0m \u001b[39mif\u001b[39;00m \u001b[39mself\u001b[39m\u001b[39m.\u001b[39mgraphs \u001b[39mis\u001b[39;00m \u001b[39mNone\u001b[39;00m:\n\u001b[1;32m    120\u001b[0m     \u001b[39mself\u001b[39m\u001b[39m.\u001b[39mmodels \u001b[39m=\u001b[39m [\n\u001b[1;32m    121\u001b[0m         GPUModel(n_agents\u001b[39m=\u001b[39mn_agents, stream\u001b[39m=\u001b[39mstream, \u001b[39m*\u001b[39m\u001b[39m*\u001b[39mkwargs)\n\u001b[1;32m    122\u001b[0m         \u001b[39mfor\u001b[39;00m stream \u001b[39min\u001b[39;00m \u001b[39mself\u001b[39m\u001b[39m.\u001b[39mstreams\n\u001b[1;32m    123\u001b[0m     ]\n",
      "File \u001b[0;32m~/anaconda3/envs/abm/lib/python3.11/site-packages/numba/cuda/cudadrv/devices.py:231\u001b[0m, in \u001b[0;36mrequire_context.<locals>._require_cuda_context\u001b[0;34m(*args, **kws)\u001b[0m\n\u001b[1;32m    229\u001b[0m \u001b[39m@functools\u001b[39m\u001b[39m.\u001b[39mwraps(fn)\n\u001b[1;32m    230\u001b[0m \u001b[39mdef\u001b[39;00m \u001b[39m_require_cuda_context\u001b[39m(\u001b[39m*\u001b[39margs, \u001b[39m*\u001b[39m\u001b[39m*\u001b[39mkws):\n\u001b[0;32m--> 231\u001b[0m     \u001b[39mwith\u001b[39;49;00m _runtime\u001b[39m.\u001b[39;49mensure_context():\n\u001b[1;32m    232\u001b[0m         \u001b[39mreturn\u001b[39;49;00m fn(\u001b[39m*\u001b[39;49margs, \u001b[39m*\u001b[39;49m\u001b[39m*\u001b[39;49mkws)\n",
      "File \u001b[0;32m~/anaconda3/envs/abm/lib/python3.11/contextlib.py:137\u001b[0m, in \u001b[0;36m_GeneratorContextManager.__enter__\u001b[0;34m(self)\u001b[0m\n\u001b[1;32m    135\u001b[0m \u001b[39mdel\u001b[39;00m \u001b[39mself\u001b[39m\u001b[39m.\u001b[39margs, \u001b[39mself\u001b[39m\u001b[39m.\u001b[39mkwds, \u001b[39mself\u001b[39m\u001b[39m.\u001b[39mfunc\n\u001b[1;32m    136\u001b[0m \u001b[39mtry\u001b[39;00m:\n\u001b[0;32m--> 137\u001b[0m     \u001b[39mreturn\u001b[39;00m \u001b[39mnext\u001b[39m(\u001b[39mself\u001b[39m\u001b[39m.\u001b[39mgen)\n\u001b[1;32m    138\u001b[0m \u001b[39mexcept\u001b[39;00m \u001b[39mStopIteration\u001b[39;00m:\n\u001b[1;32m    139\u001b[0m     \u001b[39mraise\u001b[39;00m \u001b[39mRuntimeError\u001b[39;00m(\u001b[39m\"\u001b[39m\u001b[39mgenerator didn\u001b[39m\u001b[39m'\u001b[39m\u001b[39mt yield\u001b[39m\u001b[39m\"\u001b[39m) \u001b[39mfrom\u001b[39;00m \u001b[39mNone\u001b[39;00m\n",
      "File \u001b[0;32m~/anaconda3/envs/abm/lib/python3.11/site-packages/numba/cuda/cudadrv/devices.py:123\u001b[0m, in \u001b[0;36m_Runtime.ensure_context\u001b[0;34m(self)\u001b[0m\n\u001b[1;32m    121\u001b[0m \u001b[39mwith\u001b[39;00m driver\u001b[39m.\u001b[39mget_active_context():\n\u001b[1;32m    122\u001b[0m     oldctx \u001b[39m=\u001b[39m \u001b[39mself\u001b[39m\u001b[39m.\u001b[39m_get_attached_context()\n\u001b[0;32m--> 123\u001b[0m     newctx \u001b[39m=\u001b[39m \u001b[39mself\u001b[39;49m\u001b[39m.\u001b[39;49mget_or_create_context(\u001b[39mNone\u001b[39;49;00m)\n\u001b[1;32m    124\u001b[0m     \u001b[39mself\u001b[39m\u001b[39m.\u001b[39m_set_attached_context(newctx)\n\u001b[1;32m    125\u001b[0m     \u001b[39mtry\u001b[39;00m:\n",
      "File \u001b[0;32m~/anaconda3/envs/abm/lib/python3.11/site-packages/numba/cuda/cudadrv/devices.py:138\u001b[0m, in \u001b[0;36m_Runtime.get_or_create_context\u001b[0;34m(self, devnum)\u001b[0m\n\u001b[1;32m    136\u001b[0m attached_ctx \u001b[39m=\u001b[39m \u001b[39mself\u001b[39m\u001b[39m.\u001b[39m_get_attached_context()\n\u001b[1;32m    137\u001b[0m \u001b[39mif\u001b[39;00m attached_ctx \u001b[39mis\u001b[39;00m \u001b[39mNone\u001b[39;00m:\n\u001b[0;32m--> 138\u001b[0m     \u001b[39mreturn\u001b[39;00m \u001b[39mself\u001b[39;49m\u001b[39m.\u001b[39;49m_get_or_create_context_uncached(devnum)\n\u001b[1;32m    139\u001b[0m \u001b[39melse\u001b[39;00m:\n\u001b[1;32m    140\u001b[0m     \u001b[39mreturn\u001b[39;00m attached_ctx\n",
      "File \u001b[0;32m~/anaconda3/envs/abm/lib/python3.11/site-packages/numba/cuda/cudadrv/devices.py:155\u001b[0m, in \u001b[0;36m_Runtime._get_or_create_context_uncached\u001b[0;34m(self, devnum)\u001b[0m\n\u001b[1;32m    153\u001b[0m \u001b[39mwith\u001b[39;00m driver\u001b[39m.\u001b[39mget_active_context() \u001b[39mas\u001b[39;00m ac:\n\u001b[1;32m    154\u001b[0m     \u001b[39mif\u001b[39;00m \u001b[39mnot\u001b[39;00m ac:\n\u001b[0;32m--> 155\u001b[0m         \u001b[39mreturn\u001b[39;00m \u001b[39mself\u001b[39;49m\u001b[39m.\u001b[39;49m_activate_context_for(\u001b[39m0\u001b[39;49m)\n\u001b[1;32m    156\u001b[0m     \u001b[39melse\u001b[39;00m:\n\u001b[1;32m    157\u001b[0m         \u001b[39m# Get primary context for the active device\u001b[39;00m\n\u001b[1;32m    158\u001b[0m         ctx \u001b[39m=\u001b[39m \u001b[39mself\u001b[39m\u001b[39m.\u001b[39mgpus[ac\u001b[39m.\u001b[39mdevnum]\u001b[39m.\u001b[39mget_primary_context()\n",
      "File \u001b[0;32m~/anaconda3/envs/abm/lib/python3.11/site-packages/numba/cuda/cudadrv/devices.py:177\u001b[0m, in \u001b[0;36m_Runtime._activate_context_for\u001b[0;34m(self, devnum)\u001b[0m\n\u001b[1;32m    175\u001b[0m \u001b[39mwith\u001b[39;00m \u001b[39mself\u001b[39m\u001b[39m.\u001b[39m_lock:\n\u001b[1;32m    176\u001b[0m     gpu \u001b[39m=\u001b[39m \u001b[39mself\u001b[39m\u001b[39m.\u001b[39mgpus[devnum]\n\u001b[0;32m--> 177\u001b[0m     newctx \u001b[39m=\u001b[39m gpu\u001b[39m.\u001b[39;49mget_primary_context()\n\u001b[1;32m    178\u001b[0m     \u001b[39m# Detect unexpected context switch\u001b[39;00m\n\u001b[1;32m    179\u001b[0m     cached_ctx \u001b[39m=\u001b[39m \u001b[39mself\u001b[39m\u001b[39m.\u001b[39m_get_attached_context()\n",
      "File \u001b[0;32m~/anaconda3/envs/abm/lib/python3.11/site-packages/numba/cuda/cudadrv/driver.py:678\u001b[0m, in \u001b[0;36mDevice.get_primary_context\u001b[0;34m(self)\u001b[0m\n\u001b[1;32m    675\u001b[0m \u001b[39mif\u001b[39;00m \u001b[39mself\u001b[39m\u001b[39m.\u001b[39mprimary_context \u001b[39mis\u001b[39;00m \u001b[39mnot\u001b[39;00m \u001b[39mNone\u001b[39;00m:\n\u001b[1;32m    676\u001b[0m     \u001b[39mreturn\u001b[39;00m \u001b[39mself\u001b[39m\u001b[39m.\u001b[39mprimary_context\n\u001b[0;32m--> 678\u001b[0m met_requirement_for_device(\u001b[39mself\u001b[39;49m)\n\u001b[1;32m    679\u001b[0m \u001b[39m# create primary context\u001b[39;00m\n\u001b[1;32m    680\u001b[0m \u001b[39mif\u001b[39;00m USE_NV_BINDING:\n",
      "File \u001b[0;32m~/anaconda3/envs/abm/lib/python3.11/site-packages/numba/cuda/cudadrv/driver.py:714\u001b[0m, in \u001b[0;36mmet_requirement_for_device\u001b[0;34m(device)\u001b[0m\n\u001b[1;32m    712\u001b[0m \u001b[39mdef\u001b[39;00m \u001b[39mmet_requirement_for_device\u001b[39m(device):\n\u001b[1;32m    713\u001b[0m     \u001b[39mif\u001b[39;00m device\u001b[39m.\u001b[39mcompute_capability \u001b[39m<\u001b[39m MIN_REQUIRED_CC:\n\u001b[0;32m--> 714\u001b[0m         \u001b[39mraise\u001b[39;00m CudaSupportError(\u001b[39m\"\u001b[39m\u001b[39m%s\u001b[39;00m\u001b[39m has compute capability < \u001b[39m\u001b[39m%s\u001b[39;00m\u001b[39m\"\u001b[39m \u001b[39m%\u001b[39m\n\u001b[1;32m    715\u001b[0m                                (device, MIN_REQUIRED_CC))\n",
      "\u001b[0;31mCudaSupportError\u001b[0m: <CUDA device 0 'b'NVIDIA GeForce GTX 760''> has compute capability < (3, 5)"
     ]
    }
   ],
   "source": [
    "ensemble = model.GPUEnsemble(n_models=100, n_agents=100, f=0)\n",
    "np.sum(ensemble.models[0].w)"
   ]
  },
  {
   "cell_type": "code",
   "execution_count": 8,
   "metadata": {},
   "outputs": [
    {
     "ename": "CudaSupportError",
     "evalue": "<CUDA device 0 'b'NVIDIA GeForce GTX 760''> has compute capability < (3, 5)",
     "output_type": "error",
     "traceback": [
      "\u001b[0;31m---------------------------------------------------------------------------\u001b[0m",
      "\u001b[0;31mCudaSupportError\u001b[0m                          Traceback (most recent call last)",
      "Cell \u001b[0;32mIn[8], line 2\u001b[0m\n\u001b[1;32m      1\u001b[0m \u001b[39mfrom\u001b[39;00m \u001b[39mnumba\u001b[39;00m \u001b[39mimport\u001b[39;00m cuda \n\u001b[0;32m----> 2\u001b[0m gpu \u001b[39m=\u001b[39m cuda\u001b[39m.\u001b[39;49mget_current_device()\n",
      "File \u001b[0;32m~/anaconda3/envs/abm/lib/python3.11/site-packages/numba/cuda/api.py:443\u001b[0m, in \u001b[0;36mget_current_device\u001b[0;34m()\u001b[0m\n\u001b[1;32m    441\u001b[0m \u001b[39mdef\u001b[39;00m \u001b[39mget_current_device\u001b[39m():\n\u001b[1;32m    442\u001b[0m     \u001b[39m\"\u001b[39m\u001b[39mGet current device associated with the current thread\u001b[39m\u001b[39m\"\u001b[39m\n\u001b[0;32m--> 443\u001b[0m     \u001b[39mreturn\u001b[39;00m current_context()\u001b[39m.\u001b[39mdevice\n",
      "File \u001b[0;32m~/anaconda3/envs/abm/lib/python3.11/site-packages/numba/cuda/cudadrv/devices.py:220\u001b[0m, in \u001b[0;36mget_context\u001b[0;34m(devnum)\u001b[0m\n\u001b[1;32m    216\u001b[0m \u001b[39mdef\u001b[39;00m \u001b[39mget_context\u001b[39m(devnum\u001b[39m=\u001b[39m\u001b[39mNone\u001b[39;00m):\n\u001b[1;32m    217\u001b[0m \u001b[39m    \u001b[39m\u001b[39m\"\"\"Get the current device or use a device by device number, and\u001b[39;00m\n\u001b[1;32m    218\u001b[0m \u001b[39m    return the CUDA context.\u001b[39;00m\n\u001b[1;32m    219\u001b[0m \u001b[39m    \"\"\"\u001b[39;00m\n\u001b[0;32m--> 220\u001b[0m     \u001b[39mreturn\u001b[39;00m _runtime\u001b[39m.\u001b[39;49mget_or_create_context(devnum)\n",
      "File \u001b[0;32m~/anaconda3/envs/abm/lib/python3.11/site-packages/numba/cuda/cudadrv/devices.py:138\u001b[0m, in \u001b[0;36m_Runtime.get_or_create_context\u001b[0;34m(self, devnum)\u001b[0m\n\u001b[1;32m    136\u001b[0m attached_ctx \u001b[39m=\u001b[39m \u001b[39mself\u001b[39m\u001b[39m.\u001b[39m_get_attached_context()\n\u001b[1;32m    137\u001b[0m \u001b[39mif\u001b[39;00m attached_ctx \u001b[39mis\u001b[39;00m \u001b[39mNone\u001b[39;00m:\n\u001b[0;32m--> 138\u001b[0m     \u001b[39mreturn\u001b[39;00m \u001b[39mself\u001b[39;49m\u001b[39m.\u001b[39;49m_get_or_create_context_uncached(devnum)\n\u001b[1;32m    139\u001b[0m \u001b[39melse\u001b[39;00m:\n\u001b[1;32m    140\u001b[0m     \u001b[39mreturn\u001b[39;00m attached_ctx\n",
      "File \u001b[0;32m~/anaconda3/envs/abm/lib/python3.11/site-packages/numba/cuda/cudadrv/devices.py:155\u001b[0m, in \u001b[0;36m_Runtime._get_or_create_context_uncached\u001b[0;34m(self, devnum)\u001b[0m\n\u001b[1;32m    153\u001b[0m \u001b[39mwith\u001b[39;00m driver\u001b[39m.\u001b[39mget_active_context() \u001b[39mas\u001b[39;00m ac:\n\u001b[1;32m    154\u001b[0m     \u001b[39mif\u001b[39;00m \u001b[39mnot\u001b[39;00m ac:\n\u001b[0;32m--> 155\u001b[0m         \u001b[39mreturn\u001b[39;00m \u001b[39mself\u001b[39;49m\u001b[39m.\u001b[39;49m_activate_context_for(\u001b[39m0\u001b[39;49m)\n\u001b[1;32m    156\u001b[0m     \u001b[39melse\u001b[39;00m:\n\u001b[1;32m    157\u001b[0m         \u001b[39m# Get primary context for the active device\u001b[39;00m\n\u001b[1;32m    158\u001b[0m         ctx \u001b[39m=\u001b[39m \u001b[39mself\u001b[39m\u001b[39m.\u001b[39mgpus[ac\u001b[39m.\u001b[39mdevnum]\u001b[39m.\u001b[39mget_primary_context()\n",
      "File \u001b[0;32m~/anaconda3/envs/abm/lib/python3.11/site-packages/numba/cuda/cudadrv/devices.py:177\u001b[0m, in \u001b[0;36m_Runtime._activate_context_for\u001b[0;34m(self, devnum)\u001b[0m\n\u001b[1;32m    175\u001b[0m \u001b[39mwith\u001b[39;00m \u001b[39mself\u001b[39m\u001b[39m.\u001b[39m_lock:\n\u001b[1;32m    176\u001b[0m     gpu \u001b[39m=\u001b[39m \u001b[39mself\u001b[39m\u001b[39m.\u001b[39mgpus[devnum]\n\u001b[0;32m--> 177\u001b[0m     newctx \u001b[39m=\u001b[39m gpu\u001b[39m.\u001b[39;49mget_primary_context()\n\u001b[1;32m    178\u001b[0m     \u001b[39m# Detect unexpected context switch\u001b[39;00m\n\u001b[1;32m    179\u001b[0m     cached_ctx \u001b[39m=\u001b[39m \u001b[39mself\u001b[39m\u001b[39m.\u001b[39m_get_attached_context()\n",
      "File \u001b[0;32m~/anaconda3/envs/abm/lib/python3.11/site-packages/numba/cuda/cudadrv/driver.py:678\u001b[0m, in \u001b[0;36mDevice.get_primary_context\u001b[0;34m(self)\u001b[0m\n\u001b[1;32m    675\u001b[0m \u001b[39mif\u001b[39;00m \u001b[39mself\u001b[39m\u001b[39m.\u001b[39mprimary_context \u001b[39mis\u001b[39;00m \u001b[39mnot\u001b[39;00m \u001b[39mNone\u001b[39;00m:\n\u001b[1;32m    676\u001b[0m     \u001b[39mreturn\u001b[39;00m \u001b[39mself\u001b[39m\u001b[39m.\u001b[39mprimary_context\n\u001b[0;32m--> 678\u001b[0m met_requirement_for_device(\u001b[39mself\u001b[39;49m)\n\u001b[1;32m    679\u001b[0m \u001b[39m# create primary context\u001b[39;00m\n\u001b[1;32m    680\u001b[0m \u001b[39mif\u001b[39;00m USE_NV_BINDING:\n",
      "File \u001b[0;32m~/anaconda3/envs/abm/lib/python3.11/site-packages/numba/cuda/cudadrv/driver.py:714\u001b[0m, in \u001b[0;36mmet_requirement_for_device\u001b[0;34m(device)\u001b[0m\n\u001b[1;32m    712\u001b[0m \u001b[39mdef\u001b[39;00m \u001b[39mmet_requirement_for_device\u001b[39m(device):\n\u001b[1;32m    713\u001b[0m     \u001b[39mif\u001b[39;00m device\u001b[39m.\u001b[39mcompute_capability \u001b[39m<\u001b[39m MIN_REQUIRED_CC:\n\u001b[0;32m--> 714\u001b[0m         \u001b[39mraise\u001b[39;00m CudaSupportError(\u001b[39m\"\u001b[39m\u001b[39m%s\u001b[39;00m\u001b[39m has compute capability < \u001b[39m\u001b[39m%s\u001b[39;00m\u001b[39m\"\u001b[39m \u001b[39m%\u001b[39m\n\u001b[1;32m    715\u001b[0m                                (device, MIN_REQUIRED_CC))\n",
      "\u001b[0;31mCudaSupportError\u001b[0m: <CUDA device 0 'b'NVIDIA GeForce GTX 760''> has compute capability < (3, 5)"
     ]
    }
   ],
   "source": [
    "from numba import cuda \n",
    "gpu = cuda.get_current_device()"
   ]
  }
 ],
 "metadata": {
  "kernelspec": {
   "display_name": "abm",
   "language": "python",
   "name": "python3"
  },
  "language_info": {
   "codemirror_mode": {
    "name": "ipython",
    "version": 3
   },
   "file_extension": ".py",
   "mimetype": "text/x-python",
   "name": "python",
   "nbconvert_exporter": "python",
   "pygments_lexer": "ipython3",
   "version": "3.11.3"
  },
  "orig_nbformat": 4
 },
 "nbformat": 4,
 "nbformat_minor": 2
}
